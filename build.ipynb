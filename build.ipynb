{
 "cells": [
  {
   "cell_type": "code",
   "execution_count": 4,
   "metadata": {},
   "outputs": [
    {
     "name": "stdout",
     "output_type": "stream",
     "text": [
      "<sqlalchemy.engine.cursor.CursorResult object at 0x00000251862E6160>\n"
     ]
    },
    {
     "name": "stderr",
     "output_type": "stream",
     "text": [
      "C:\\Users\\2580j\\AppData\\Local\\Temp\\ipykernel_24348\\135654982.py:14: MovedIn20Warning: The ``declarative_base()`` function is now available as sqlalchemy.orm.declarative_base(). (deprecated since: 2.0) (Background on SQLAlchemy 2.0 at: https://sqlalche.me/e/b8d9)\n",
      "  Base = declarative_base()\n"
     ]
    }
   ],
   "source": [
    "from sqlalchemy import create_engine\n",
    "from sqlalchemy.orm import sessionmaker\n",
    "from sqlalchemy.ext.declarative import declarative_base\n",
    "from sqlalchemy import Column, Integer, String, Boolean, ForeignKey,ARRAY\n",
    "from sqlalchemy.orm import relationship\n",
    "from sqlalchemy import text\n",
    "from sqlalchemy import DateTime\n",
    "from datetime import datetime\n",
    "import pytz\n",
    "\n",
    "DATABASE_URL = \"sqlite:///tmp.db\"\n",
    "engine = create_engine(DATABASE_URL)\n",
    "SessionLocal = sessionmaker(autocommit=False, autoflush=False, bind=engine)\n",
    "Base = declarative_base()\n",
    "\n",
    "class Customer(Base):\n",
    "    __tablename__ = \"customers\"\n",
    "    \n",
    "    NO = Column(Integer, primary_key=True, index=True, autoincrement=True)\n",
    "    ID = Column(String, index=True)\n",
    "    PWD = Column(String, index=True)\n",
    "    PHONE_NUM = Column(String, index=True, default=None)\n",
    "    E_MAIL = Column(String, index=True, default=None)\n",
    "    musics = relationship(\"Music\", back_populates=\"customers\")\n",
    "    \n",
    "class Music(Base):\n",
    "    __tablename__ = \"musics\"\n",
    "    \n",
    "    NO = Column(Integer, primary_key=True, index=True, autoincrement=True)\n",
    "    CUS_NO = Column(Integer, ForeignKey(\"customers.NO\"))\n",
    "    NAME = Column(String, index=True)\n",
    "    URL = Column(String, index=True, default=None)\n",
    "    FILE = Column(String, index=True, default= None)\n",
    "    TIME = Column(String, index=True, default= None)\n",
    "    DATE = Column(DateTime, default=datetime.utcnow, nullable=False)\n",
    "    customers = relationship(\"Customer\", back_populates=\"musics\")\n",
    "\n",
    "def get_customer_data():\n",
    "    session = SessionLocal()\n",
    "    customers = session.query(Customer).all()\n",
    "    session.close()\n",
    "    return customers\n",
    "\n",
    "def do_query(query):\n",
    "    session = SessionLocal()\n",
    "    result = session.execute(query)\n",
    "    session.commit()\n",
    "    session.close()\n",
    "    return result\n",
    "if __name__ == \"__main__\":\n",
    "    Base.metadata.create_all(bind=engine)\n",
    "\n",
    "# query = text(\"INSERT INTO customers (ID, PWD, PHONE_NUM, E_MAIL) VALUES ('Lucete', 'wjdghdus1!', '01039972802', '2580jhy@naver.com')\")\n",
    "query = text(\"SELECT * FROM customers\")\n",
    "print(do_query(query))"
   ]
  },
  {
   "cell_type": "code",
   "execution_count": 6,
   "metadata": {},
   "outputs": [
    {
     "name": "stdout",
     "output_type": "stream",
     "text": [
      "(1, 1, '정호연 테스트', 'http', 'tab.pdf', '[(90,1),(542,3)]', None)\n"
     ]
    }
   ],
   "source": [
    "query = text(\"SELECT * FROM musics\")\n",
    "result = do_query(query)\n",
    "\n",
    "for row in result:\n",
    "    print(row)"
   ]
  },
  {
   "cell_type": "code",
   "execution_count": 7,
   "metadata": {},
   "outputs": [
    {
     "data": {
      "text/plain": [
       "<sqlalchemy.engine.cursor.CursorResult at 0x251862e6820>"
      ]
     },
     "execution_count": 7,
     "metadata": {},
     "output_type": "execute_result"
    }
   ],
   "source": [
    "# query = text(\"INSERT INTO musics (CUS_NO, NAME, URL, FILE,TIME,DATE) VALUES (1, '정호연 테스트',http,tab.pdf,[(90,1),(542,3)]\")\n",
    "# query = text(\"INSERT INTO customers (ID, PWD, PHONE_NUM, E_MAIL) VALUES ('Lucete22', 'wjdghdus1!', '01039972802', '2580jhy@naver.com')\")\n",
    "\n",
    "kor_date = datetime.now(pytz.timezone('Asia/Seoul')).strftime('%Y-%m-%d %H:%M')\n",
    "query = text(f\"INSERT INTO musics (CUS_NO, NAME, URL, FILE, TIME, DATE) VALUES (2, '정호연 테스트22', 'http', 'tab.pdf', '[(90,1),(542,3)]', '{kor_date}')\")\n",
    "do_query(query)"
   ]
  }
 ],
 "metadata": {
  "kernelspec": {
   "display_name": "Python 3",
   "language": "python",
   "name": "python3"
  },
  "language_info": {
   "codemirror_mode": {
    "name": "ipython",
    "version": 3
   },
   "file_extension": ".py",
   "mimetype": "text/x-python",
   "name": "python",
   "nbconvert_exporter": "python",
   "pygments_lexer": "ipython3",
   "version": "3.8.7"
  },
  "orig_nbformat": 4
 },
 "nbformat": 4,
 "nbformat_minor": 2
}
